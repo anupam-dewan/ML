{
 "cells": [
  {
   "cell_type": "markdown",
   "metadata": {},
   "source": [
    "Presteps: 1) Importing neccessary libraries"
   ]
  },
  {
   "cell_type": "code",
   "execution_count": 109,
   "metadata": {
    "collapsed": true
   },
   "outputs": [],
   "source": [
    "from sklearn.naive_bayes import BernoulliNB\n",
    "import pandas as pd\n",
    "import matplotlib.pyplot as plt\n",
    "from sklearn.metrics import accuracy_score"
   ]
  },
  {
   "cell_type": "markdown",
   "metadata": {},
   "source": [
    "Presteps: 2) Loading all the CSV files Using read_csv() functions"
   ]
  },
  {
   "cell_type": "code",
   "execution_count": 110,
   "metadata": {
    "collapsed": true
   },
   "outputs": [],
   "source": [
    "vocabulary=pd.read_csv(\"vocabulary.csv\")\n",
    "xtrain=pd.read_csv(\"Xtrain.csv\")\n",
    "ytrain=pd.read_csv(\"yTrain.csv\")\n",
    "xtest=pd.read_csv(\"XTest.csv\")\n",
    "ytest=pd.read_csv(\"yTest.csv\")"
   ]
  },
  {
   "cell_type": "markdown",
   "metadata": {},
   "source": [
    "Part a) The following question does following parts:\n",
    "\n",
    "1) Fit a Naive Bayes classiﬁer to the provided data (with no Laplacian smoothing). \n",
    "\n",
    "2) Producing a confusion matrix for the Naive Bayes classiﬁer. \n",
    "\n",
    "3) Ploting the matrix as a heatmap. "
   ]
  },
  {
   "cell_type": "code",
   "execution_count": 144,
   "metadata": {},
   "outputs": [
    {
     "name": "stderr",
     "output_type": "stream",
     "text": [
      "C:\\Users\\Anupam\\Anaconda3\\lib\\site-packages\\sklearn\\utils\\validation.py:578: DataConversionWarning: A column-vector y was passed when a 1d array was expected. Please change the shape of y to (n_samples, ), for example using ravel().\n",
      "  y = column_or_1d(y, warn=True)\n",
      "C:\\Users\\Anupam\\Anaconda3\\lib\\site-packages\\sklearn\\naive_bayes.py:472: UserWarning: alpha too small will result in numeric errors, setting alpha = 1.0e-10\n",
      "  'setting alpha = %.1e' % _ALPHA_MIN)\n"
     ]
    },
    {
     "name": "stdout",
     "output_type": "stream",
     "text": [
      "Confusion Mattrix:\n",
      "[[98  0]\n",
      " [45  1]]\n"
     ]
    },
    {
     "data": {
      "text/plain": [
       "Text(83.4,0.5,'predicted label')"
      ]
     },
     "execution_count": 144,
     "metadata": {},
     "output_type": "execute_result"
    },
    {
     "data": {
      "image/png": "[encoded data removed]",
      "text/plain": [
       "<matplotlib.figure.Figure at 0x11c8b2dcfd0>"
      ]
     },
     "metadata": {},
     "output_type": "display_data"
    }
   ],
   "source": [
    "from sklearn.metrics import confusion_matrix\n",
    "naive = BernoulliNB(alpha=0.0)\n",
    "model = naive.fit(xtrain,ytrain)\n",
    "y_pred = naive.predict(xtest)\n",
    "conf = confusion_matrix(ytest, y_pred)\n",
    "print(\"Confusion Mattrix:\")\n",
    "print(conf)\n",
    "import seaborn as sns\n",
    "%matplotlib inline\n",
    "fig2=plt.figure()\n",
    "fig2.add_subplot(111)\n",
    "sns.heatmap(conf,annot=True,square=True,cbar=True,fmt=\"d\")\n",
    "plt.xlabel(\"true label\")\n",
    "plt.ylabel(\"predicted label\")"
   ]
  },
  {
   "cell_type": "markdown",
   "metadata": {},
   "source": [
    "Part b) Calculate precision and recall when The onion is treated as positive?"
   ]
  },
  {
   "cell_type": "code",
   "execution_count": 145,
   "metadata": {},
   "outputs": [
    {
     "name": "stdout",
     "output_type": "stream",
     "text": [
      "Precision when The onion is positive 1.0\n",
      "Recall when The onion is positive 0.0217391304348\n"
     ]
    }
   ],
   "source": [
    "tp=conf[1,1]\n",
    "fn=conf[1,0]\n",
    "fp=conf[0,1]\n",
    "tn=conf[0,0]\n",
    "\n",
    "precision = (tp/(tp+fp))\n",
    "recall = (tp/(tp+fn))\n",
    "print(\"Precision when The onion is positive\",precision)\n",
    "print(\"Recall when The onion is positive\",recall)\n",
    "\n"
   ]
  },
  {
   "cell_type": "markdown",
   "metadata": {},
   "source": [
    "Part c) Calculate precision and recall when The Economist is treated as positive?"
   ]
  },
  {
   "cell_type": "code",
   "execution_count": 146,
   "metadata": {},
   "outputs": [
    {
     "name": "stdout",
     "output_type": "stream",
     "text": [
      "Precision when The economist is positive 0.685314685315\n",
      "Recall  when The economist is positive 1.0\n"
     ]
    }
   ],
   "source": [
    "tp1 = conf[0,0]\n",
    "fn1 = conf[0,1]\n",
    "fp1 = conf[1,0]\n",
    "tn1 = conf[1,1]\n",
    "\n",
    "precision1 = (tp1/(tp1+fp1))\n",
    "recall1 = (tp1/(tp1+fn1))\n",
    "\n",
    "print(\"Precision when The economist is positive\",precision1)\n",
    "print(\"Recall  when The economist is positive\",recall1)"
   ]
  },
  {
   "cell_type": "markdown",
   "metadata": {},
   "source": [
    "Part d)Calculate MissClassification Rate for smooth and unsmooth models"
   ]
  },
  {
   "cell_type": "code",
   "execution_count": 147,
   "metadata": {},
   "outputs": [
    {
     "name": "stdout",
     "output_type": "stream",
     "text": [
      "Misclassification rate without any smoothing 0.3125\n"
     ]
    },
    {
     "name": "stderr",
     "output_type": "stream",
     "text": [
      "C:\\Users\\Anupam\\Anaconda3\\lib\\site-packages\\sklearn\\utils\\validation.py:578: DataConversionWarning: A column-vector y was passed when a 1d array was expected. Please change the shape of y to (n_samples, ), for example using ravel().\n",
      "  y = column_or_1d(y, warn=True)\n"
     ]
    },
    {
     "name": "stdout",
     "output_type": "stream",
     "text": [
      "Misclassification rate when Laplacian smoothening  0.138888888889\n"
     ]
    }
   ],
   "source": [
    "#create vectors for actual labels and predicted labels...\n",
    "class_score = accuracy_score(ytest, y_pred, normalize=False) / (ytest.size)\n",
    "print(\"Misclassification rate without any smoothing\",1-class_score)\n",
    "naive_smooth = BernoulliNB(alpha=1.0)\n",
    "model = naive_smooth.fit(xtrain,ytrain)\n",
    "y_pred = naive_smooth.predict(xtest)\n",
    "smooth_class_score = accuracy_score(ytest, y_pred, normalize=False)/ (ytest.size)\n",
    "print(\"Misclassification rate when Laplacian smoothening \",1-smooth_class_score)"
   ]
  },
  {
   "cell_type": "markdown",
   "metadata": {},
   "source": [
    "Part e) i)True class of 45th element"
   ]
  },
  {
   "cell_type": "code",
   "execution_count": 148,
   "metadata": {},
   "outputs": [
    {
     "name": "stdout",
     "output_type": "stream",
     "text": [
      "True class of 45th element  1\n"
     ]
    }
   ],
   "source": [
    "print(\"True class of 45th element \",ytest.iloc[44,0])"
   ]
  },
  {
   "cell_type": "markdown",
   "metadata": {},
   "source": [
    "Part e) i)Predicted class of 45th element"
   ]
  },
  {
   "cell_type": "code",
   "execution_count": 149,
   "metadata": {},
   "outputs": [
    {
     "name": "stdout",
     "output_type": "stream",
     "text": [
      "Predicted class of 45th element  1\n"
     ]
    }
   ],
   "source": [
    "print(\"Predicted class of 45th element \",y_pred[44])"
   ]
  },
  {
   "cell_type": "markdown",
   "metadata": {},
   "source": [
    "Part e) iii)Estimated Prosterior probability for 45th observations for smoothened and unsmoothened model"
   ]
  },
  {
   "cell_type": "code",
   "execution_count": 150,
   "metadata": {},
   "outputs": [
    {
     "name": "stdout",
     "output_type": "stream",
     "text": [
      "Posterior probablity for unsmoothen-ed model: [  1.00000000e+00   1.02199885e-41]\n",
      "Posterior probablity for smoothen-ed model: [ 0.2652005  0.7347995]\n"
     ]
    }
   ],
   "source": [
    "print(\"Posterior probablity for unsmoothen-ed model:\",naive.predict_proba(xtest)[44])\n",
    "print(\"Posterior probablity for smoothen-ed model:\",naive_smooth.predict_proba(xtest)[44])"
   ]
  },
  {
   "cell_type": "code",
   "execution_count": 151,
   "metadata": {},
   "outputs": [
    {
     "data": {
      "text/html": [
       "<script>\n",
       "\n",
       "code_show=true; \n",
       "\n",
       "function code_toggle() {\n",
       "\n",
       " if (code_show){\n",
       "\n",
       " $('div.input').hide();\n",
       "\n",
       " } else {\n",
       "\n",
       " $('div.input').show();\n",
       " \n",
       " }\n",
       "\n",
       " code_show = !code_show\n",
       "\n",
       "} \n",
       "$( document ).ready(code_toggle);\n",
       "</script>\n",
       "\n",
       "<form action=\"javascript:code_toggle()\"><input type=\"submit\" value=\"Click here to toggle on/off the raw code.\"></form>"
      ],
      "text/plain": [
       "<IPython.core.display.HTML object>"
      ]
     },
     "execution_count": 151,
     "metadata": {},
     "output_type": "execute_result"
    }
   ],
   "source": [
    "from IPython.display import HTML\n",
    "\n",
    "\n",
    "\n",
    "HTML('''<script>\n",
    "\n",
    "code_show=true; \n",
    "\n",
    "function code_toggle() {\n",
    "\n",
    " if (code_show){\n",
    "\n",
    " $('div.input').hide();\n",
    "\n",
    " } else {\n",
    "\n",
    " $('div.input').show();\n",
    " \n",
    " }\n",
    "\n",
    " code_show = !code_show\n",
    "\n",
    "} \n",
    "$( document ).ready(code_toggle);\n",
    "</script>\n",
    "\n",
    "<form action=\"javascript:code_toggle()\"><input type=\"submit\" value=\"Click here to toggle on/off the raw code.\"></form>''')"
   ]
  },
  {
   "cell_type": "code",
   "execution_count": null,
   "metadata": {
    "collapsed": true
   },
   "outputs": [],
   "source": []
  },
  {
   "cell_type": "code",
   "execution_count": null,
   "metadata": {
    "collapsed": true
   },
   "outputs": [],
   "source": []
  },
  {
   "cell_type": "code",
   "execution_count": null,
   "metadata": {
    "collapsed": true
   },
   "outputs": [],
   "source": []
  }
 ],
 "metadata": {
  "kernelspec": {
   "display_name": "Python 3",
   "language": "python",
   "name": "python3"
  },
  "language_info": {
   "codemirror_mode": {
    "name": "ipython",
    "version": 3
   },
   "file_extension": ".py",
   "mimetype": "text/x-python",
   "name": "python",
   "nbconvert_exporter": "python",
   "pygments_lexer": "ipython3",
   "version": "3.6.3"
  }
 },
 "nbformat": 4,
 "nbformat_minor": 2
}
