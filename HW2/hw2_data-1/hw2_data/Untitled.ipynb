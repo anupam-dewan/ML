{
 "cells": [
  {
   "cell_type": "markdown",
   "metadata": {},
   "source": [
    "Our test error here is slightly higher than the one we got when the test data was held out(which was around 48%)\n",
    "\n",
    "Model selection without nested CV(first approch) uses the same data to tune model parameters and evaluate model performance.\n",
    "Information may thus “leak” into the model and overfit the data. resulting in lower \"false\" test error.\n",
    "\n",
    "Hence to get a true picture of the \"true\" test error we should use nested CV as a better source of truth.\n",
    "\n",
    "Ref: See Cawley and Talbot [1] for an analysis of these issues."
   ]
  },
  {
   "cell_type": "code",
   "execution_count": null,
   "metadata": {
    "collapsed": true
   },
   "outputs": [],
   "source": []
  }
 ],
 "metadata": {
  "kernelspec": {
   "display_name": "Python 3",
   "language": "python",
   "name": "python3"
  },
  "language_info": {
   "codemirror_mode": {
    "name": "ipython",
    "version": 3
   },
   "file_extension": ".py",
   "mimetype": "text/x-python",
   "name": "python",
   "nbconvert_exporter": "python",
   "pygments_lexer": "ipython3",
   "version": "3.6.3"
  }
 },
 "nbformat": 4,
 "nbformat_minor": 2
}
